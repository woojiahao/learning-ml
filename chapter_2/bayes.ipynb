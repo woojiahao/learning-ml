{
 "cells": [
  {
   "cell_type": "code",
   "execution_count": 16,
   "metadata": {
    "collapsed": true
   },
   "outputs": [],
   "source": [
    "pies = [\n",
    "    ['circle', 'thick', 'gray', 'thick', 'dark', 'pos'],\n",
    "    ['circle', 'thick', 'white', 'thick', 'dark', 'pos'],\n",
    "    ['triangle', 'thick', 'dark', 'thick', 'gray', 'pos'],\n",
    "    ['circle', 'thin', 'white', 'thin', 'dark', 'pos'],\n",
    "    ['square', 'thick', 'dark', 'thin', 'white', 'pos'],\n",
    "    ['circle', 'thick', 'white', 'thin', 'dark', 'pos'],\n",
    "    ['circle', 'thick', 'gray', 'thick', 'white', 'neg'],\n",
    "    ['square', 'thick', 'white', 'thick', 'gray', 'neg'],\n",
    "    ['triangle', 'thin', 'gray', 'thin', 'dark', 'neg'],\n",
    "    ['circle', 'thick', 'dark', 'thick', 'white', 'neg'],\n",
    "    ['square', 'thick', 'white', 'thick', 'dark', 'neg'],\n",
    "    ['triangle', 'thick', 'white', 'thick', 'gray', 'neg'],\n",
    "]\n",
    "\n",
    "labelled_pies = {}\n",
    "for p in pies:\n",
    "    if p[-1] not in labelled_pies:\n",
    "        labelled_pies[p[-1]] = []\n",
    "    labelled_pies[p[-1]].append(p)"
   ]
  },
  {
   "cell_type": "code",
   "execution_count": 17,
   "outputs": [],
   "source": [
    "def conditional_probability(attribute_col, attribute, label):\n",
    "    attribute_count = 0\n",
    "    for pie in labelled_pies[label]:\n",
    "        if pie[attribute_col] == attribute:\n",
    "            attribute_count += 1\n",
    "    p = attribute_count / len(labelled_pies[label])\n",
    "    print(f'Conditional probability of {attribute} on {label} = {attribute_count}/{len(labelled_pies[label])} = {p}')\n",
    "    return p\n",
    "\n",
    "def naive_bayes(vector):\n",
    "    pos_probability = 1\n",
    "    neg_probability = 1\n",
    "    for i, attribute in enumerate(vector):\n",
    "        pos_probability *= conditional_probability(i, attribute, 'pos')\n",
    "        neg_probability *= conditional_probability(i, attribute, 'neg')\n",
    "\n",
    "    print(f'For {vector}, pos % = {pos_probability}, neg % = {neg_probability}')\n",
    "\n",
    "    return 'pos' if pos_probability > neg_probability else 'neg'"
   ],
   "metadata": {
    "collapsed": false
   }
  },
  {
   "cell_type": "code",
   "execution_count": null,
   "outputs": [],
   "source": [],
   "metadata": {
    "collapsed": false
   }
  },
  {
   "cell_type": "code",
   "execution_count": 15,
   "outputs": [
    {
     "name": "stdout",
     "output_type": "stream",
     "text": [
      "Conditional probability of circle on pos = 4/6 = 0.6666666666666666\n",
      "Conditional probability of circle on neg = 2/6 = 0.3333333333333333\n",
      "Conditional probability of thin on pos = 1/6 = 0.16666666666666666\n",
      "Conditional probability of thin on neg = 1/6 = 0.16666666666666666\n",
      "Conditional probability of black on pos = 0/6 = 0.0\n",
      "Conditional probability of black on neg = 0/6 = 0.0\n",
      "Conditional probability of thick on pos = 3/6 = 0.5\n",
      "Conditional probability of thick on neg = 5/6 = 0.8333333333333334\n",
      "Conditional probability of dark on pos = 4/6 = 0.6666666666666666\n",
      "Conditional probability of dark on neg = 2/6 = 0.3333333333333333\n",
      "For ['circle', 'thin', 'black', 'thick', 'dark'], pos % = 0.0, neg % = 0.0\n"
     ]
    },
    {
     "data": {
      "text/plain": "'neg'"
     },
     "execution_count": 15,
     "metadata": {},
     "output_type": "execute_result"
    }
   ],
   "source": [
    "naive_bayes(['circle', 'thin', 'black', 'thick', 'dark'])"
   ],
   "metadata": {
    "collapsed": false
   }
  },
  {
   "cell_type": "code",
   "execution_count": 20,
   "outputs": [],
   "source": [
    "def m_estimate(n_e, n_all, m, expected_e):\n",
    "    return (n_e + m * expected_e) / (n_all + m)\n",
    "\n",
    "M = 4\n",
    "\n",
    "def m_naive_bayes(vector):\n",
    "    pos_prob = 1\n",
    "    neg_prob = 1\n",
    "    for i, attribute in enumerate(vector):\n",
    "        pos_cond_prob = conditional_probability(i, attribute, 'pos')\n",
    "        neg_cond_prob = conditional_probability(i, attribute, 'neg')\n",
    "        if pos_cond_prob == 0.0:\n",
    "            n_e = sum([1 for pie in labelled_pies['pos'] if pie[i] == attribute])\n",
    "            expected_e = 1/len(set([pie[i] for pie in labelled_pies['pos']]))\n",
    "            pos_cond_prob = m_estimate(n_e, len(labelled_pies['pos']), M, expected_e)\n",
    "        if neg_cond_prob == 0.0:\n",
    "            n_e = sum([1 for pie in labelled_pies['neg'] if pie[i] == attribute])\n",
    "            expected_e = 1/len(set([pie[i] for pie in labelled_pies['neg']]))\n",
    "            neg_cond_prob = m_estimate(n_e, len(labelled_pies['neg']), M, expected_e)\n",
    "        print(f'Ultimate conditional probability of {attribute} is {pos_cond_prob} and {neg_cond_prob}')\n",
    "        pos_prob *= pos_cond_prob\n",
    "        neg_prob *= neg_cond_prob\n",
    "\n",
    "    return 'pos' if pos_prob > neg_prob else 'neg'"
   ],
   "metadata": {
    "collapsed": false
   }
  },
  {
   "cell_type": "code",
   "execution_count": 21,
   "outputs": [
    {
     "name": "stdout",
     "output_type": "stream",
     "text": [
      "Conditional probability of circle on pos = 4/6 = 0.6666666666666666\n",
      "Conditional probability of circle on neg = 2/6 = 0.3333333333333333\n",
      "Ultimate conditional probability of circle is 0.6666666666666666 and 0.3333333333333333\n",
      "Conditional probability of thin on pos = 1/6 = 0.16666666666666666\n",
      "Conditional probability of thin on neg = 1/6 = 0.16666666666666666\n",
      "Ultimate conditional probability of thin is 0.16666666666666666 and 0.16666666666666666\n",
      "Conditional probability of black on pos = 0/6 = 0.0\n",
      "Conditional probability of black on neg = 0/6 = 0.0\n",
      "Ultimate conditional probability of black is 0.13333333333333333 and 0.13333333333333333\n",
      "Conditional probability of thick on pos = 3/6 = 0.5\n",
      "Conditional probability of thick on neg = 5/6 = 0.8333333333333334\n",
      "Ultimate conditional probability of thick is 0.5 and 0.8333333333333334\n",
      "Conditional probability of dark on pos = 4/6 = 0.6666666666666666\n",
      "Conditional probability of dark on neg = 2/6 = 0.3333333333333333\n",
      "Ultimate conditional probability of dark is 0.6666666666666666 and 0.3333333333333333\n"
     ]
    },
    {
     "data": {
      "text/plain": "'pos'"
     },
     "execution_count": 21,
     "metadata": {},
     "output_type": "execute_result"
    }
   ],
   "source": [
    "m_naive_bayes(['circle', 'thin', 'black', 'thick', 'dark'])"
   ],
   "metadata": {
    "collapsed": false
   }
  }
 ],
 "metadata": {
  "kernelspec": {
   "display_name": "Python 3",
   "language": "python",
   "name": "python3"
  },
  "language_info": {
   "codemirror_mode": {
    "name": "ipython",
    "version": 2
   },
   "file_extension": ".py",
   "mimetype": "text/x-python",
   "name": "python",
   "nbconvert_exporter": "python",
   "pygments_lexer": "ipython2",
   "version": "2.7.6"
  }
 },
 "nbformat": 4,
 "nbformat_minor": 0
}
