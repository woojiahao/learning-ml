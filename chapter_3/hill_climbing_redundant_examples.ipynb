{
 "cells": [
  {
   "cell_type": "markdown",
   "source": [
    "# Implementation of redundant example removal using hill climbing\n",
    "\n",
    "The core components for this problem (or any hill climbing):\n",
    "\n",
    "1. Initial state: entire training set\n",
    "2. Search operator: removing an example\n",
    "3. Evaluation function: using 1-NN classifier to see if suggested label for all examples match original label\n",
    "4. Final state: consistent subset\n",
    "\n",
    "Each component will be implemented independently."
   ],
   "metadata": {
    "collapsed": false
   }
  },
  {
   "cell_type": "code",
   "execution_count": 5,
   "outputs": [],
   "source": [
    "import pandas as pd\n",
    "import numpy as np\n",
    "import heapq"
   ],
   "metadata": {
    "collapsed": false
   }
  },
  {
   "cell_type": "code",
   "execution_count": 2,
   "outputs": [
    {
     "data": {
      "text/plain": "{'pos': [['circle', 'thick', 'gray', 'thick', 'dark', 'pos'],\n  ['circle', 'thick', 'white', 'thick', 'dark', 'pos'],\n  ['triangle', 'thick', 'dark', 'thick', 'gray', 'pos'],\n  ['circle', 'thin', 'white', 'thin', 'dark', 'pos'],\n  ['square', 'thick', 'dark', 'thin', 'white', 'pos'],\n  ['circle', 'thick', 'white', 'thin', 'dark', 'pos']],\n 'neg': [['circle', 'thick', 'gray', 'thick', 'white', 'neg'],\n  ['square', 'thick', 'white', 'thick', 'gray', 'neg'],\n  ['triangle', 'thin', 'gray', 'thin', 'dark', 'neg'],\n  ['circle', 'thick', 'dark', 'thick', 'white', 'neg'],\n  ['square', 'thick', 'white', 'thick', 'dark', 'neg'],\n  ['triangle', 'thick', 'white', 'thick', 'gray', 'neg']]}"
     },
     "execution_count": 2,
     "metadata": {},
     "output_type": "execute_result"
    }
   ],
   "source": [
    "pies = [\n",
    "    ['circle', 'thick', 'gray', 'thick', 'dark', 'pos'],\n",
    "    ['circle', 'thick', 'white', 'thick', 'dark', 'pos'],\n",
    "    ['triangle', 'thick', 'dark', 'thick', 'gray', 'pos'],\n",
    "    ['circle', 'thin', 'white', 'thin', 'dark', 'pos'],\n",
    "    ['square', 'thick', 'dark', 'thin', 'white', 'pos'],\n",
    "    ['circle', 'thick', 'white', 'thin', 'dark', 'pos'],\n",
    "    ['circle', 'thick', 'gray', 'thick', 'white', 'neg'],\n",
    "    ['square', 'thick', 'white', 'thick', 'gray', 'neg'],\n",
    "    ['triangle', 'thin', 'gray', 'thin', 'dark', 'neg'],\n",
    "    ['circle', 'thick', 'dark', 'thick', 'white', 'neg'],\n",
    "    ['square', 'thick', 'white', 'thick', 'dark', 'neg'],\n",
    "    ['triangle', 'thick', 'white', 'thick', 'gray', 'neg'],\n",
    "]\n",
    "\n",
    "labelled_pies = {}\n",
    "for p in pies:\n",
    "    if p[-1] not in labelled_pies:\n",
    "        labelled_pies[p[-1]] = []\n",
    "    labelled_pies[p[-1]].append(p)\n",
    "\n",
    "labelled_pies"
   ],
   "metadata": {
    "collapsed": false
   }
  },
  {
   "cell_type": "code",
   "execution_count": 11,
   "outputs": [
    {
     "data": {
      "text/plain": "0.5"
     },
     "execution_count": 11,
     "metadata": {},
     "output_type": "execute_result"
    }
   ],
   "source": [
    "# Computing the distance between two vectors\n",
    "# In this case, we are just using the boolean condition of true/false of whether there is a match\n",
    "# The more matches, the closer it is, so we should use 1/matches to represent that\n",
    "def dist(x, y):\n",
    "    total = 0\n",
    "    for [a, b] in zip(x, y):\n",
    "        if a == b:\n",
    "            total += 1\n",
    "    if total == 0:\n",
    "        # If no matches at all, we just return 1 being the furthest possible distance\n",
    "        return 1\n",
    "    return 1/total\n",
    "\n",
    "# Expects 2\n",
    "dist(['circle', 'thick', 'gray', 'thick', 'dark'], ['circle', 'thin', 'black', 'thick', 'white'])"
   ],
   "metadata": {
    "collapsed": false
   }
  },
  {
   "cell_type": "code",
   "execution_count": 16,
   "outputs": [
    {
     "data": {
      "text/plain": "[['circle', 'thick', 'gray', 'thick', 'white', 'neg'],\n ['circle', 'thick', 'gray', 'thick', 'dark', 'pos'],\n ['circle', 'thick', 'dark', 'thick', 'white', 'neg']]"
     },
     "execution_count": 16,
     "metadata": {},
     "output_type": "execute_result"
    }
   ],
   "source": [
    "# implementation of k-NN classifier where we can specify k\n",
    "# given examples, find the k nearest neighbours for vector x\n",
    "# use the dist(x, y) function above\n",
    "def knn(k, examples, x):\n",
    "    h = []\n",
    "    for example in examples:\n",
    "        heapq.heappush(h, (-dist(x, example), example))\n",
    "        if len(h) > k:\n",
    "            heapq.heappop(h)\n",
    "    neighbors = []\n",
    "    while h:\n",
    "        neighbors.append(heapq.heappop(h)[1])\n",
    "    return neighbors[::-1]\n",
    "\n",
    "knn(3, pies, ['circle', 'thick', 'gray', 'thick', 'white'])"
   ],
   "metadata": {
    "collapsed": false
   }
  },
  {
   "cell_type": "code",
   "execution_count": 17,
   "outputs": [
    {
     "data": {
      "text/plain": "'neg'"
     },
     "execution_count": 17,
     "metadata": {},
     "output_type": "execute_result"
    }
   ],
   "source": [
    "# uses knn() above but now returns the label instead\n",
    "def knn_classifier(k, examples, x):\n",
    "    neighbors = knn(k, examples, x)\n",
    "    freq = {}\n",
    "    for n in neighbors:\n",
    "        freq[n[-1]] = freq.get(n[-1], 0) + 1\n",
    "    label = ''\n",
    "    label_f = 0\n",
    "    for l, f in freq.items():\n",
    "        if f > label_f:\n",
    "            label = l\n",
    "            label_f = f\n",
    "    return label\n",
    "\n",
    "knn_classifier(3, pies, ['circle', 'thick', 'gray', 'thick', 'white'])"
   ],
   "metadata": {
    "collapsed": false
   }
  },
  {
   "cell_type": "code",
   "execution_count": 20,
   "outputs": [
    {
     "data": {
      "text/plain": "12"
     },
     "execution_count": 20,
     "metadata": {},
     "output_type": "execute_result"
    }
   ],
   "source": [
    "# Evaluation function where 1-NN classifier is used to generate \"potential\" labels\n",
    "# The core idea is for every example, we perform 1-NN on itself to find if the 1-NN classifier returns\n",
    "#   the same label that it has originally\n",
    "# So for every example, we should general the \"match\" score and prioritize using the highest match score\n",
    "def evaluate(examples):\n",
    "    matches = 0\n",
    "    for example in examples:\n",
    "        predicted_label = knn_classifier(1, examples, example)\n",
    "        actual_label = example[-1]\n",
    "        if predicted_label == actual_label:\n",
    "            matches += 1\n",
    "    return matches\n",
    "\n",
    "# initially the 1-NN should be itself so no change\n",
    "evaluate(pies)"
   ],
   "metadata": {
    "collapsed": false
   }
  },
  {
   "cell_type": "code",
   "execution_count": 23,
   "outputs": [
    {
     "data": {
      "text/plain": "[[['circle', 'thick', 'gray', 'thick', 'dark', 'pos'],\n  ['circle', 'thick', 'white', 'thick', 'dark', 'pos'],\n  ['triangle', 'thick', 'dark', 'thick', 'gray', 'pos'],\n  ['circle', 'thin', 'white', 'thin', 'dark', 'pos'],\n  ['square', 'thick', 'dark', 'thin', 'white', 'pos'],\n  ['circle', 'thick', 'white', 'thin', 'dark', 'pos'],\n  ['circle', 'thick', 'gray', 'thick', 'white', 'neg'],\n  ['square', 'thick', 'white', 'thick', 'gray', 'neg'],\n  ['triangle', 'thin', 'gray', 'thin', 'dark', 'neg'],\n  ['circle', 'thick', 'dark', 'thick', 'white', 'neg'],\n  ['square', 'thick', 'white', 'thick', 'dark', 'neg'],\n  ['triangle', 'thick', 'white', 'thick', 'gray', 'neg']]]"
     },
     "execution_count": 23,
     "metadata": {},
     "output_type": "execute_result"
    }
   ],
   "source": [
    "# Now the implementation of the hill climbing\n",
    "# For each possible set of training examples, we try deleting one of its examples and use the evaluation function\n",
    "# if the result is a perfect match to the original size, then we can use this configuration\n",
    "# if there is no configuration that works, that means we have found out consistent subset and cannot reduce it further\n",
    "def find_consistent_subset(initial):\n",
    "    frontier = [initial]\n",
    "    consistent_subsets = []\n",
    "    while frontier:\n",
    "        next_frontier = []\n",
    "        for examples in frontier:\n",
    "            is_consistent_subset = True\n",
    "            for i in range(len(examples)):\n",
    "                removed = examples[:i] + examples[i+1:]\n",
    "                score = evaluate(removed)\n",
    "                if score == len(initial):\n",
    "                    next_frontier.append(removed)\n",
    "                    is_consistent_subset = False\n",
    "            if is_consistent_subset:\n",
    "                consistent_subsets.append(examples)\n",
    "        frontier = next_frontier\n",
    "\n",
    "    return consistent_subsets\n",
    "\n",
    "find_consistent_subset(pies)"
   ],
   "metadata": {
    "collapsed": false
   }
  }
 ],
 "metadata": {
  "kernelspec": {
   "display_name": "Python 3",
   "language": "python",
   "name": "python3"
  },
  "language_info": {
   "codemirror_mode": {
    "name": "ipython",
    "version": 2
   },
   "file_extension": ".py",
   "mimetype": "text/x-python",
   "name": "python",
   "nbconvert_exporter": "python",
   "pygments_lexer": "ipython2",
   "version": "2.7.6"
  }
 },
 "nbformat": 4,
 "nbformat_minor": 0
}
