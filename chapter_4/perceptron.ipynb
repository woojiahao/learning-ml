{
 "cells": [
  {
   "cell_type": "code",
   "execution_count": 1,
   "metadata": {
    "collapsed": true
   },
   "outputs": [],
   "source": [
    "import numpy as np\n",
    "import pandas as pd"
   ]
  },
  {
   "cell_type": "code",
   "execution_count": 8,
   "outputs": [],
   "source": [
    "training_attributes = np.array([[1, 1, 1, 0], [0, 0, 0, 0], [1, 1, 0, 1], [1, 1, 0, 0], [0, 1, 0, 1], [0, 0, 0, 1]])\n",
    "training_labels = np.array([1, 1, 1, 0, 0, 0])"
   ],
   "metadata": {
    "collapsed": false
   }
  },
  {
   "cell_type": "code",
   "execution_count": 26,
   "outputs": [
    {
     "name": "stdout",
     "output_type": "stream",
     "text": [
      "Epoch 1 Report\t\tAccuracy: 3/6 = 50.0%\n",
      "Epoch 2 Report\t\tAccuracy: 3/6 = 50.0%\n",
      "Epoch 3 Report\t\tAccuracy: 3/6 = 50.0%\n",
      "Epoch 4 Report\t\tAccuracy: 3/6 = 50.0%\n",
      "Epoch 5 Report\t\tAccuracy: 3/6 = 50.0%\n",
      "Epoch 6 Report\t\tAccuracy: 3/6 = 50.0%\n",
      "Epoch 7 Report\t\tAccuracy: 3/6 = 50.0%\n",
      "Epoch 8 Report\t\tAccuracy: 3/6 = 50.0%\n",
      "Epoch 9 Report\t\tAccuracy: 3/6 = 50.0%\n",
      "Epoch 10 Report\t\tAccuracy: 3/6 = 50.0%\n"
     ]
    }
   ],
   "source": [
    "# h(x) = 1 if sum is > 0\n",
    "def h(x, w):\n",
    "    v = w[0]\n",
    "    n = w.shape[0]\n",
    "    for i in range(1, n):\n",
    "        v += x[i-1] * w[i]\n",
    "    return 1 if v > 0 else 0\n",
    "\n",
    "def epoch(examples, labels, weights, learning_rate):\n",
    "    n = examples.shape[1]\n",
    "    hits = 0\n",
    "    for i in range(n):\n",
    "        e = examples[i]\n",
    "        l = labels[i]\n",
    "        prediction = h(e, weights)\n",
    "        if prediction == l:\n",
    "            hits += 1\n",
    "        for j in range(1, len(weights)):\n",
    "            weights[j] = weights[j] + (prediction - l) * learning_rate * e[j-1]\n",
    "    return weights, hits\n",
    "\n",
    "def train(examples, labels, epochs):\n",
    "    m = examples.shape[0]\n",
    "    n = examples.shape[1]\n",
    "    weights = np.random.rand(n + 1)\n",
    "    learning_rate = 0.5\n",
    "    for i in range(epochs):\n",
    "        weights, hits = epoch(examples, labels, weights, learning_rate)\n",
    "        print(f'Epoch {i + 1} Report\\t\\tAccuracy: {hits}/{m} = {hits/m*100}%')\n",
    "\n",
    "train(training_attributes, training_labels, 10)"
   ],
   "metadata": {
    "collapsed": false
   }
  }
 ],
 "metadata": {
  "kernelspec": {
   "display_name": "Python 3",
   "language": "python",
   "name": "python3"
  },
  "language_info": {
   "codemirror_mode": {
    "name": "ipython",
    "version": 2
   },
   "file_extension": ".py",
   "mimetype": "text/x-python",
   "name": "python",
   "nbconvert_exporter": "python",
   "pygments_lexer": "ipython2",
   "version": "2.7.6"
  }
 },
 "nbformat": 4,
 "nbformat_minor": 0
}
