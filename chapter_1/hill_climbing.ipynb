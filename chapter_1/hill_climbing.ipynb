{
 "cells": [
  {
   "cell_type": "code",
   "execution_count": 9,
   "metadata": {},
   "outputs": [],
   "source": [
    "final_state = [[1, 2, 3], [8, 0, 4], [7, 6, 5]]\n",
    "initial_state = [[0, 2, 1], [6, 7, 4], [3, 8, 5]]\n",
    "M, N = len(final_state), len(final_state[0])"
   ]
  },
  {
   "cell_type": "code",
   "execution_count": 53,
   "metadata": {},
   "outputs": [],
   "source": [
    "# List of possible evaluation functions\n",
    "def naive_evaluate(state):\n",
    "    # Always return the same value\n",
    "    return 1\n",
    "\n",
    "def compare_evaluate(state):\n",
    "    matches = 0\n",
    "    for i in range(M):\n",
    "        for j in range(N):\n",
    "            if state[i][j] == final_state[i][j]:\n",
    "                matches += 1\n",
    "    return matches\n",
    "\n",
    "def sum_mul_evaluate(state):\n",
    "    score = 0\n",
    "    for i in range(M):\n",
    "        t = 1\n",
    "        for j in range(N):\n",
    "            t *= state[i][j]\n",
    "        score += t\n",
    "    return score\n"
   ]
  },
  {
   "cell_type": "code",
   "execution_count": 17,
   "metadata": {},
   "outputs": [],
   "source": [
    "# State helpers\n",
    "def hash_state(state):\n",
    "    return '|'.join(['-'.join([str(el) for el in row]) for row in state])\n",
    "\n",
    "dirs = [(-1, 0), (1, 0), (0, -1), (0, 1)]\n",
    "\n",
    "# State can only move 1 tile at a time, so we focus on filling in the hole depending on where it\n",
    "# is\n",
    "def next_states(state):\n",
    "    hr, hc = 0, 0\n",
    "    for i in range(M):\n",
    "        for j in range(N):\n",
    "            if not state[i][j]:\n",
    "                hr, hc = i, j\n",
    "\n",
    "    upcoming = []\n",
    "    for dr, dc in dirs:\n",
    "        nr, nc = hr + dr, hc + dc\n",
    "        if not 0 <= nr < M or not 0 <= nc < N:\n",
    "            continue\n",
    "        else:\n",
    "            copy = [row[::] for row in state]\n",
    "            copy[hr][hc], copy[nr][nc] = copy[nr][nc], copy[hr][hc]\n",
    "            upcoming.append(copy)\n",
    "    return upcoming"
   ]
  },
  {
   "cell_type": "code",
   "execution_count": 40,
   "metadata": {},
   "outputs": [
    {
     "data": {
      "text/plain": [
       "[[[2, 7, 1], [6, 0, 4], [3, 8, 5]],\n",
       " [[0, 2, 1], [6, 7, 4], [3, 8, 5]],\n",
       " [[2, 1, 0], [6, 7, 4], [3, 8, 5]]]"
      ]
     },
     "execution_count": 40,
     "metadata": {},
     "output_type": "execute_result"
    }
   ],
   "source": [
    "next_states(next_states(initial_state)[1])"
   ]
  },
  {
   "cell_type": "code",
   "execution_count": 50,
   "metadata": {},
   "outputs": [],
   "source": [
    "from collections import deque\n",
    "\n",
    "# Performing hill climbing\n",
    "chosen_evaluation = naive_evaluate\n",
    "def climb(eval_fn):\n",
    "    # Perform level-wide BFS\n",
    "    visited = {hash_state(initial_state)}\n",
    "    frontier = [initial_state]\n",
    "    steps = 0\n",
    "\n",
    "    while frontier:\n",
    "        next_frontier = []\n",
    "        steps += 1\n",
    "        for state in frontier:\n",
    "            if state == final_state:\n",
    "                print(steps)\n",
    "                return True\n",
    "\n",
    "            for upcoming in next_states(state):\n",
    "                if hash_state(upcoming) in visited:\n",
    "                    continue\n",
    "                next_frontier.append(upcoming)\n",
    "        frontier = sorted(next_frontier, key=lambda s: eval_fn(s), reverse=True)[:1]\n",
    "        if frontier:\n",
    "            visited.add(hash_state(frontier[0]))\n",
    "\n",
    "    print(steps)\n",
    "    return False\n"
   ]
  },
  {
   "cell_type": "code",
   "execution_count": null,
   "metadata": {},
   "outputs": [],
   "source": []
  },
  {
   "cell_type": "code",
   "execution_count": 51,
   "metadata": {},
   "outputs": [
    {
     "name": "stdout",
     "output_type": "stream",
     "text": [
      "63\n"
     ]
    },
    {
     "data": {
      "text/plain": [
       "False"
      ]
     },
     "execution_count": 51,
     "metadata": {},
     "output_type": "execute_result"
    }
   ],
   "source": [
    "climb(naive_evaluate)"
   ]
  },
  {
   "cell_type": "code",
   "execution_count": 52,
   "metadata": {},
   "outputs": [
    {
     "name": "stdout",
     "output_type": "stream",
     "text": [
      "13\n"
     ]
    },
    {
     "data": {
      "text/plain": [
       "False"
      ]
     },
     "execution_count": 52,
     "metadata": {},
     "output_type": "execute_result"
    }
   ],
   "source": [
    "climb(compare_evaluate)"
   ]
  },
  {
   "cell_type": "code",
   "execution_count": 54,
   "metadata": {},
   "outputs": [
    {
     "name": "stdout",
     "output_type": "stream",
     "text": [
      "77\n"
     ]
    },
    {
     "data": {
      "text/plain": [
       "False"
      ]
     },
     "execution_count": 54,
     "metadata": {},
     "output_type": "execute_result"
    }
   ],
   "source": [
    "climb(sum_mul_evaluate)"
   ]
  }
 ],
 "metadata": {
  "kernelspec": {
   "display_name": "base",
   "language": "python",
   "name": "python3"
  },
  "language_info": {
   "codemirror_mode": {
    "name": "ipython",
    "version": 3
   },
   "file_extension": ".py",
   "mimetype": "text/x-python",
   "name": "python",
   "nbconvert_exporter": "python",
   "pygments_lexer": "ipython3",
   "version": "3.9.0"
  }
 },
 "nbformat": 4,
 "nbformat_minor": 2
}
