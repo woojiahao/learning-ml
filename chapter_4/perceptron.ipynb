{
 "cells": [
  {
   "cell_type": "code",
   "execution_count": 1,
   "metadata": {
    "collapsed": true
   },
   "outputs": [],
   "source": [
    "import numpy as np\n",
    "import pandas as pd"
   ]
  },
  {
   "cell_type": "code",
   "execution_count": 8,
   "outputs": [],
   "source": [
    "training_attributes = np.array([[1, 1, 1, 0], [0, 0, 0, 0], [1, 1, 0, 1], [1, 1, 0, 0], [0, 1, 0, 1], [0, 0, 0, 1]])\n",
    "training_labels = np.array([1, 1, 1, 0, 0, 0])"
   ],
   "metadata": {
    "collapsed": false
   }
  },
  {
   "cell_type": "code",
   "execution_count": 210,
   "outputs": [
    {
     "name": "stdout",
     "output_type": "stream",
     "text": [
      "Epoch 1 Report\t\tAccuracy: 3/6 = 50.0%\n",
      "Epoch 2 Report\t\tAccuracy: 3/6 = 50.0%\n",
      "Epoch 3 Report\t\tAccuracy: 3/6 = 50.0%\n",
      "Epoch 4 Report\t\tAccuracy: 3/6 = 50.0%\n",
      "Epoch 5 Report\t\tAccuracy: 3/6 = 50.0%\n",
      "Epoch 6 Report\t\tAccuracy: 3/6 = 50.0%\n",
      "Epoch 7 Report\t\tAccuracy: 3/6 = 50.0%\n",
      "Epoch 8 Report\t\tAccuracy: 3/6 = 50.0%\n",
      "Epoch 9 Report\t\tAccuracy: 3/6 = 50.0%\n",
      "Epoch 10 Report\t\tAccuracy: 3/6 = 50.0%\n"
     ]
    },
    {
     "data": {
      "text/plain": "(3, 10)"
     },
     "execution_count": 210,
     "metadata": {},
     "output_type": "execute_result"
    }
   ],
   "source": [
    "# h(x) = 1 if sum is > 0\n",
    "def h(x, w):\n",
    "    v = 0\n",
    "    n = w.shape[0]\n",
    "    for i in range(n):\n",
    "        v += x[i] * w[i]\n",
    "    return 1 if v > 0 else 0\n",
    "\n",
    "def additive(e, w, l, p, lr):\n",
    "    return w + (l - p) * lr * e\n",
    "\n",
    "def multiplicative(_, w, l, p, lr):\n",
    "    return w * (lr**(l - p))\n",
    "\n",
    "def epoch(examples, labels, weights, learning_rate, learning):\n",
    "    length = examples.shape[0]\n",
    "    attribute_count = examples.shape[1] + 1\n",
    "    # print(length, attribute_count)\n",
    "    x0 = np.full((length, 1), 1)\n",
    "    examples = np.hstack((x0, examples))\n",
    "    # print(examples)\n",
    "    hits = 0\n",
    "    for i in range(length):\n",
    "        e = examples[i]\n",
    "        l = labels[i]\n",
    "        prediction = h(e, weights)\n",
    "        if prediction == l:\n",
    "            hits += 1\n",
    "        for j in range(attribute_count):\n",
    "            # print(weights[j] + (l - prediction) * learning_rate * e[j])\n",
    "            # print(weights)\n",
    "            weights[j] = learning(e[j], weights[j], l, prediction, learning_rate)\n",
    "        # print(weights)\n",
    "    return weights, hits\n",
    "\n",
    "def train(examples, labels, learning_rate = 0.5, epochs = 100, weights = None, has_report = True, learning = additive):\n",
    "    length = examples.shape[0]\n",
    "    attribute_count = examples.shape[1] + 1\n",
    "    if weights is None:\n",
    "        weights = np.random.uniform(-1, 1, attribute_count)\n",
    "    final_hit = 0\n",
    "    for i in range(epochs):\n",
    "        # print('Weights before change = ', weights)\n",
    "        weights, hits = epoch(examples, labels, weights, learning_rate, learning)\n",
    "        accuracy = hits / length * 100\n",
    "        if accuracy == 100.0:\n",
    "            return hits, i + 1\n",
    "        if has_report:\n",
    "            print(f'Epoch {i + 1} Report\\t\\tAccuracy: {hits}/{length} = {accuracy}%')\n",
    "        if i == epochs - 1:\n",
    "            final_hit = hits\n",
    "    # print('Final weights = ', weights)\n",
    "    return final_hit, epochs\n",
    "\n",
    "train(training_attributes, training_labels, epochs=10)"
   ],
   "metadata": {
    "collapsed": false
   }
  },
  {
   "cell_type": "code",
   "execution_count": 49,
   "outputs": [],
   "source": [
    "def generate_examples(size, attribute_count, labeller):\n",
    "    examples = np.random.randint(2, size=(size, attribute_count))\n",
    "    labels = np.full(size, 0)\n",
    "    for i in range(size):\n",
    "        labels[i] = labeller(examples[i])\n",
    "    return examples, labels"
   ],
   "metadata": {
    "collapsed": false
   }
  },
  {
   "cell_type": "code",
   "execution_count": 200,
   "outputs": [
    {
     "name": "stdout",
     "output_type": "stream",
     "text": [
      "Epoch 1 Report\t\tAccuracy: 8/20 = 40.0%\n",
      "Epoch 2 Report\t\tAccuracy: 11/20 = 55.00000000000001%\n",
      "Epoch 3 Report\t\tAccuracy: 12/20 = 60.0%\n",
      "Epoch 4 Report\t\tAccuracy: 15/20 = 75.0%\n",
      "Epoch 5 Report\t\tAccuracy: 15/20 = 75.0%\n",
      "Epoch 6 Report\t\tAccuracy: 15/20 = 75.0%\n"
     ]
    }
   ],
   "source": [
    "def question_two():\n",
    "    def labeller(row):\n",
    "        if np.sum(row) >= 3:\n",
    "            return 1\n",
    "        return 0\n",
    "    examples, labels = generate_examples(20, 5, labeller)\n",
    "    train(examples, labels, 0.7, 10)\n",
    "\n",
    "question_two()"
   ],
   "metadata": {
    "collapsed": false
   }
  },
  {
   "cell_type": "code",
   "execution_count": 207,
   "outputs": [
    {
     "name": "stdout",
     "output_type": "stream",
     "text": [
      "Epoch 1 Report\t\tAccuracy: 0/3 = 0.0%\n"
     ]
    },
    {
     "data": {
      "text/plain": "(3, 2)"
     },
     "execution_count": 207,
     "metadata": {},
     "output_type": "execute_result"
    }
   ],
   "source": [
    "test_data = np.array([[1, 0], [1, 1], [0, 0]])\n",
    "test_labels = np.array([0, 1, 0])\n",
    "train(test_data, test_labels, epochs=3, weights=np.array([0.1, 0.3, 0.4]))"
   ],
   "metadata": {
    "collapsed": false
   }
  },
  {
   "cell_type": "code",
   "execution_count": 208,
   "outputs": [
    {
     "name": "stdout",
     "output_type": "stream",
     "text": [
      "N = 1, final accuracy = 20/20 = 100.0% with 6 epochs needed\n",
      "N = 2, final accuracy = 20/20 = 100.0% with 2 epochs needed\n",
      "N = 3, final accuracy = 20/20 = 100.0% with 11 epochs needed\n",
      "N = 4, final accuracy = 20/20 = 100.0% with 6 epochs needed\n",
      "N = 5, final accuracy = 20/20 = 100.0% with 6 epochs needed\n",
      "N = 6, final accuracy = 20/20 = 100.0% with 11 epochs needed\n",
      "N = 7, final accuracy = 20/20 = 100.0% with 11 epochs needed\n",
      "N = 8, final accuracy = 20/20 = 100.0% with 6 epochs needed\n",
      "N = 9, final accuracy = 20/20 = 100.0% with 3 epochs needed\n",
      "N = 10, final accuracy = 20/20 = 100.0% with 4 epochs needed\n",
      "N = 11, final accuracy = 20/20 = 100.0% with 4 epochs needed\n",
      "N = 12, final accuracy = 20/20 = 100.0% with 2 epochs needed\n",
      "N = 13, final accuracy = 20/20 = 100.0% with 4 epochs needed\n",
      "N = 14, final accuracy = 20/20 = 100.0% with 4 epochs needed\n",
      "N = 15, final accuracy = 20/20 = 100.0% with 5 epochs needed\n",
      "N = 16, final accuracy = 20/20 = 100.0% with 4 epochs needed\n",
      "N = 17, final accuracy = 20/20 = 100.0% with 10 epochs needed\n",
      "N = 18, final accuracy = 20/20 = 100.0% with 5 epochs needed\n",
      "N = 19, final accuracy = 20/20 = 100.0% with 2 epochs needed\n",
      "N = 20, final accuracy = 20/20 = 100.0% with 5 epochs needed\n"
     ]
    }
   ],
   "source": [
    "def question_three():\n",
    "    def labeller(row):\n",
    "        if np.sum(row) >= 3:\n",
    "            return 1\n",
    "        return 0\n",
    "    base_examples, base_labels = generate_examples(20, 5, labeller)\n",
    "    for N in range(1, 21):\n",
    "        added = np.random.randint(0, 2, size=(20, N))\n",
    "        examples = np.hstack((base_examples, added))\n",
    "        final_hit, epochs = train(examples, base_labels, epochs=50, learning_rate=0.6, has_report=False)\n",
    "        print(f'N = {N}, final accuracy = {final_hit}/20 = {final_hit/20*100}% with {epochs} epochs needed')\n",
    "\n",
    "question_three()"
   ],
   "metadata": {
    "collapsed": false
   }
  },
  {
   "cell_type": "code",
   "execution_count": 209,
   "outputs": [
    {
     "name": "stdout",
     "output_type": "stream",
     "text": [
      "N = 0, final accuracy = 20/20 = 100.0% with 14 epochs needed\n",
      "N = 1, final accuracy = 20/20 = 100.0% with 19 epochs needed\n",
      "N = 2, final accuracy = 20/20 = 100.0% with 6 epochs needed\n",
      "N = 3, final accuracy = 12/20 = 60.0% with 50 epochs needed\n",
      "N = 4, final accuracy = 16/20 = 80.0% with 50 epochs needed\n",
      "N = 5, final accuracy = 14/20 = 70.0% with 50 epochs needed\n",
      "N = 6, final accuracy = 14/20 = 70.0% with 50 epochs needed\n",
      "N = 7, final accuracy = 18/20 = 90.0% with 50 epochs needed\n",
      "N = 8, final accuracy = 16/20 = 80.0% with 50 epochs needed\n",
      "N = 9, final accuracy = 14/20 = 70.0% with 50 epochs needed\n",
      "N = 10, final accuracy = 20/20 = 100.0% with 22 epochs needed\n",
      "N = 11, final accuracy = 14/20 = 70.0% with 50 epochs needed\n",
      "N = 12, final accuracy = 10/20 = 50.0% with 50 epochs needed\n",
      "N = 13, final accuracy = 14/20 = 70.0% with 50 epochs needed\n",
      "N = 14, final accuracy = 16/20 = 80.0% with 50 epochs needed\n",
      "N = 15, final accuracy = 10/20 = 50.0% with 50 epochs needed\n",
      "N = 16, final accuracy = 12/20 = 60.0% with 50 epochs needed\n",
      "N = 17, final accuracy = 10/20 = 50.0% with 50 epochs needed\n",
      "N = 18, final accuracy = 14/20 = 70.0% with 50 epochs needed\n",
      "N = 19, final accuracy = 15/20 = 75.0% with 50 epochs needed\n"
     ]
    }
   ],
   "source": [
    "import random\n",
    "\n",
    "def question_four():\n",
    "    def labeller(row):\n",
    "        if np.sum(row) >= 3:\n",
    "            return 1\n",
    "        return 0\n",
    "    base_examples, base_labels = generate_examples(20, 5, labeller)\n",
    "    for N in range(20):\n",
    "        # Randomly choose N examples to randomize the values\n",
    "        examples = np.copy(base_examples)\n",
    "        affected = 0\n",
    "        for i in range(20):\n",
    "            if affected == N:\n",
    "                break\n",
    "            if bool(random.getrandbits(1)):\n",
    "                examples[i] = np.random.randint(0, 2, size=(1, 5))\n",
    "                affected += 1\n",
    "        final_hit, epochs = train(examples, base_labels, epochs=50, learning_rate=0.6, has_report=False)\n",
    "        print(f'N = {N}, final accuracy = {final_hit}/20 = {final_hit/20*100}% with {epochs} epochs needed')\n",
    "\n",
    "question_four()"
   ],
   "metadata": {
    "collapsed": false
   }
  },
  {
   "cell_type": "code",
   "execution_count": null,
   "outputs": [],
   "source": [
    "def question_six():"
   ],
   "metadata": {
    "collapsed": false
   }
  }
 ],
 "metadata": {
  "kernelspec": {
   "display_name": "Python 3",
   "language": "python",
   "name": "python3"
  },
  "language_info": {
   "codemirror_mode": {
    "name": "ipython",
    "version": 2
   },
   "file_extension": ".py",
   "mimetype": "text/x-python",
   "name": "python",
   "nbconvert_exporter": "python",
   "pygments_lexer": "ipython2",
   "version": "2.7.6"
  }
 },
 "nbformat": 4,
 "nbformat_minor": 0
}
