{
 "cells": [
  {
   "cell_type": "code",
   "execution_count": 1,
   "metadata": {
    "collapsed": true
   },
   "outputs": [],
   "source": [
    "pies = [\n",
    "    ['circle', 'thick', 'gray', 'thick', 'dark', 'pos'],\n",
    "    ['circle', 'thick', 'white', 'thick', 'dark', 'pos'],\n",
    "    ['triangle', 'thick', 'dark', 'thick', 'gray', 'pos'],\n",
    "    ['circle', 'thin', 'white', 'thin', 'dark', 'pos'],\n",
    "    ['square', 'thick', 'dark', 'thin', 'white', 'pos'],\n",
    "    ['circle', 'thick', 'white', 'thin', 'dark', 'pos'],\n",
    "    ['circle', 'thick', 'gray', 'thick', 'white', 'neg'],\n",
    "    ['square', 'thick', 'white', 'thick', 'gray', 'neg'],\n",
    "    ['triangle', 'thin', 'gray', 'thin', 'dark', 'neg'],\n",
    "    ['circle', 'thick', 'dark', 'thick', 'white', 'neg'],\n",
    "    ['square', 'thick', 'white', 'thick', 'dark', 'neg'],\n",
    "    ['triangle', 'thick', 'white', 'thick', 'gray', 'neg'],\n",
    "]"
   ]
  },
  {
   "cell_type": "code",
   "execution_count": 12,
   "outputs": [],
   "source": [
    "def conditional_probability(attribute_col, attribute, label):\n",
    "    attribute_count = 0\n",
    "    label_count = 0\n",
    "    for pie in pies:\n",
    "        if pie[attribute_col] == attribute and pie[-1] == label:\n",
    "            attribute_count += 1\n",
    "        if pie[-1] == label:\n",
    "            label_count += 1\n",
    "    print(f'Conditional probability of {attribute} on {label} = {attribute_count}/{label_count} = {attribute_count/label_count}')\n",
    "    return attribute_count / label_count\n",
    "\n",
    "def naive_bayes(vector):\n",
    "    pos_probability = 1\n",
    "    neg_probability = 1\n",
    "    for i, attribute in enumerate(vector):\n",
    "        pos_probability *= conditional_probability(i, attribute, 'pos')\n",
    "        neg_probability *= conditional_probability(i, attribute, 'neg')\n",
    "\n",
    "    print(f'For {vector}, pos % = {pos_probability}, neg % = {neg_probability}')\n",
    "\n",
    "    return 'pos' if pos_probability > neg_probability else 'neg'"
   ],
   "metadata": {
    "collapsed": false
   }
  },
  {
   "cell_type": "code",
   "execution_count": 15,
   "outputs": [
    {
     "name": "stdout",
     "output_type": "stream",
     "text": [
      "Conditional probability of circle on pos = 4/6 = 0.6666666666666666\n",
      "Conditional probability of circle on neg = 2/6 = 0.3333333333333333\n",
      "Conditional probability of thin on pos = 1/6 = 0.16666666666666666\n",
      "Conditional probability of thin on neg = 1/6 = 0.16666666666666666\n",
      "Conditional probability of black on pos = 0/6 = 0.0\n",
      "Conditional probability of black on neg = 0/6 = 0.0\n",
      "Conditional probability of thick on pos = 3/6 = 0.5\n",
      "Conditional probability of thick on neg = 5/6 = 0.8333333333333334\n",
      "Conditional probability of dark on pos = 4/6 = 0.6666666666666666\n",
      "Conditional probability of dark on neg = 2/6 = 0.3333333333333333\n",
      "For ['circle', 'thin', 'black', 'thick', 'dark'], pos % = 0.0, neg % = 0.0\n"
     ]
    },
    {
     "data": {
      "text/plain": "'neg'"
     },
     "execution_count": 15,
     "metadata": {},
     "output_type": "execute_result"
    }
   ],
   "source": [
    "naive_bayes(['circle', 'thin', 'black', 'thick', 'dark'])"
   ],
   "metadata": {
    "collapsed": false
   }
  },
  {
   "cell_type": "code",
   "execution_count": null,
   "outputs": [],
   "source": [
    "def m_estimate(n_e, n_all, m, expected_e):\n",
    "    return (n_e + m * expected_e) / (n_all + m)\n",
    "\n",
    "def m_naive_bayes(vector):\n",
    "    pos_prob = 1\n",
    "    neg_prob = 1\n",
    "    for i, attribute in enumerate(vector):\n",
    "        pos_cond_prob = conditional_probability(i, attribute, 'pos')\n",
    "        neg_cond_prob = conditional_probability(i, attribute, 'neg')\n",
    "        if pos_cond_prob == 0.0:\n",
    "            # use the m_estimate of the attribute instead\n",
    "            # fix m to be 4\n",
    "            m = 4\n",
    "            # calculate the n_e and n_all for that given event given the label\n",
    "\n",
    "    return 'pos' if pos_prob > neg_prob else 'neg'"
   ],
   "metadata": {
    "collapsed": false
   }
  }
 ],
 "metadata": {
  "kernelspec": {
   "display_name": "Python 3",
   "language": "python",
   "name": "python3"
  },
  "language_info": {
   "codemirror_mode": {
    "name": "ipython",
    "version": 2
   },
   "file_extension": ".py",
   "mimetype": "text/x-python",
   "name": "python",
   "nbconvert_exporter": "python",
   "pygments_lexer": "ipython2",
   "version": "2.7.6"
  }
 },
 "nbformat": 4,
 "nbformat_minor": 0
}
