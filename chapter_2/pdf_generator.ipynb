{
 "cells": [
  {
   "cell_type": "code",
   "execution_count": 31,
   "metadata": {
    "collapsed": true
   },
   "outputs": [],
   "source": [
    "import pandas as pd\n",
    "import math\n",
    "import functools"
   ]
  },
  {
   "cell_type": "code",
   "execution_count": 2,
   "outputs": [
    {
     "data": {
      "text/plain": "     sepal_length  sepal_width  petal_length  petal_width           class\n0             4.9          3.0           1.4          0.2     Iris-setosa\n1             4.7          3.2           1.3          0.2     Iris-setosa\n2             4.6          3.1           1.5          0.2     Iris-setosa\n3             5.0          3.6           1.4          0.2     Iris-setosa\n4             5.4          3.9           1.7          0.4     Iris-setosa\n..            ...          ...           ...          ...             ...\n144           6.7          3.0           5.2          2.3  Iris-virginica\n145           6.3          2.5           5.0          1.9  Iris-virginica\n146           6.5          3.0           5.2          2.0  Iris-virginica\n147           6.2          3.4           5.4          2.3  Iris-virginica\n148           5.9          3.0           5.1          1.8  Iris-virginica\n\n[149 rows x 5 columns]",
      "text/html": "<div>\n<style scoped>\n    .dataframe tbody tr th:only-of-type {\n        vertical-align: middle;\n    }\n\n    .dataframe tbody tr th {\n        vertical-align: top;\n    }\n\n    .dataframe thead th {\n        text-align: right;\n    }\n</style>\n<table border=\"1\" class=\"dataframe\">\n  <thead>\n    <tr style=\"text-align: right;\">\n      <th></th>\n      <th>sepal_length</th>\n      <th>sepal_width</th>\n      <th>petal_length</th>\n      <th>petal_width</th>\n      <th>class</th>\n    </tr>\n  </thead>\n  <tbody>\n    <tr>\n      <th>0</th>\n      <td>4.9</td>\n      <td>3.0</td>\n      <td>1.4</td>\n      <td>0.2</td>\n      <td>Iris-setosa</td>\n    </tr>\n    <tr>\n      <th>1</th>\n      <td>4.7</td>\n      <td>3.2</td>\n      <td>1.3</td>\n      <td>0.2</td>\n      <td>Iris-setosa</td>\n    </tr>\n    <tr>\n      <th>2</th>\n      <td>4.6</td>\n      <td>3.1</td>\n      <td>1.5</td>\n      <td>0.2</td>\n      <td>Iris-setosa</td>\n    </tr>\n    <tr>\n      <th>3</th>\n      <td>5.0</td>\n      <td>3.6</td>\n      <td>1.4</td>\n      <td>0.2</td>\n      <td>Iris-setosa</td>\n    </tr>\n    <tr>\n      <th>4</th>\n      <td>5.4</td>\n      <td>3.9</td>\n      <td>1.7</td>\n      <td>0.4</td>\n      <td>Iris-setosa</td>\n    </tr>\n    <tr>\n      <th>...</th>\n      <td>...</td>\n      <td>...</td>\n      <td>...</td>\n      <td>...</td>\n      <td>...</td>\n    </tr>\n    <tr>\n      <th>144</th>\n      <td>6.7</td>\n      <td>3.0</td>\n      <td>5.2</td>\n      <td>2.3</td>\n      <td>Iris-virginica</td>\n    </tr>\n    <tr>\n      <th>145</th>\n      <td>6.3</td>\n      <td>2.5</td>\n      <td>5.0</td>\n      <td>1.9</td>\n      <td>Iris-virginica</td>\n    </tr>\n    <tr>\n      <th>146</th>\n      <td>6.5</td>\n      <td>3.0</td>\n      <td>5.2</td>\n      <td>2.0</td>\n      <td>Iris-virginica</td>\n    </tr>\n    <tr>\n      <th>147</th>\n      <td>6.2</td>\n      <td>3.4</td>\n      <td>5.4</td>\n      <td>2.3</td>\n      <td>Iris-virginica</td>\n    </tr>\n    <tr>\n      <th>148</th>\n      <td>5.9</td>\n      <td>3.0</td>\n      <td>5.1</td>\n      <td>1.8</td>\n      <td>Iris-virginica</td>\n    </tr>\n  </tbody>\n</table>\n<p>149 rows × 5 columns</p>\n</div>"
     },
     "execution_count": 2,
     "metadata": {},
     "output_type": "execute_result"
    }
   ],
   "source": [
    "iris = pd.read_csv('datasets/iris.data', header=0, names=['sepal_length', 'sepal_width', 'petal_length', 'petal_width', 'class'])\n",
    "\n",
    "iris"
   ],
   "metadata": {
    "collapsed": false
   }
  },
  {
   "cell_type": "code",
   "execution_count": 35,
   "outputs": [],
   "source": [
    "example = [\n",
    "    [2.1, 0.2, 3.0, 'c1'],\n",
    "    [3.3, 1.0, 2.9, 'c1'],\n",
    "    [2.7, 1.2, 3.4, 'c1'],\n",
    "    [0.5, 5.3, 0.0, 'c2'],\n",
    "    [1.5, 4.7, 0.5, 'c2'],\n",
    "]\n",
    "\n",
    "example_df = pd.DataFrame(example, columns=['x1', 'x2', 'x3', 'class'])"
   ],
   "metadata": {
    "collapsed": false
   }
  },
  {
   "cell_type": "code",
   "execution_count": null,
   "outputs": [],
   "source": [],
   "metadata": {
    "collapsed": false
   }
  },
  {
   "cell_type": "code",
   "execution_count": 70,
   "outputs": [],
   "source": [
    "def generate_pdf(df, class_label, sigma_sq):\n",
    "    class_group = df.groupby(['class']).get_group(class_label).iloc[:,:-1]\n",
    "    print(class_group)\n",
    "    m = class_group.shape[0]\n",
    "    k = 1/(m * (sigma_sq**0.5) * (2 * math.pi)**0.5)\n",
    "\n",
    "    # For every column of the class_group, we need to compute one of the sub-pdf\n",
    "    sub_pdfs = []\n",
    "    for (column, data) in class_group.iteritems():\n",
    "        expressions = []\n",
    "        for mu in data.values:\n",
    "            exp = generate_exp(mu, sigma_sq)\n",
    "            expressions.append(exp)\n",
    "        sub_pdfs.append(generate_sub_pdf(k, expressions))\n",
    "\n",
    "    def pdf(x):\n",
    "        zipped = zip(sub_pdfs, x)\n",
    "        start = 1\n",
    "        for sub_pdf, value in zipped:\n",
    "            print('pdf: ', value, sub_pdf(value))\n",
    "            start *= sub_pdf(value)\n",
    "        return start\n",
    "    return pdf\n",
    "\n",
    "def generate_exp(mu, sigma_sq):\n",
    "    def exp(x):\n",
    "        value = math.e**(-((x-mu)**2/2*sigma_sq))\n",
    "        print('exp: ', x, mu, sigma_sq, value)\n",
    "        return value\n",
    "    return exp\n",
    "\n",
    "def generate_sub_pdf(k, exps):\n",
    "    def sub_pdf(x):\n",
    "        return k * sum([e(x) for e in exps])\n",
    "    return sub_pdf"
   ],
   "metadata": {
    "collapsed": false
   }
  },
  {
   "cell_type": "code",
   "execution_count": 34,
   "outputs": [],
   "source": [
    "setosa_pdf = generate_pdf(iris, 'Iris-setosa', 1)"
   ],
   "metadata": {
    "collapsed": false
   }
  },
  {
   "cell_type": "code",
   "execution_count": null,
   "outputs": [],
   "source": [
    "setosa_pdf()"
   ],
   "metadata": {
    "collapsed": false
   }
  },
  {
   "cell_type": "code",
   "execution_count": 71,
   "outputs": [
    {
     "name": "stdout",
     "output_type": "stream",
     "text": [
      "    x1   x2   x3\n",
      "3  0.5  5.3  0.0\n",
      "4  1.5  4.7  0.5\n",
      "exp:  1.4 0.5 1 0.6669768108584745\n",
      "exp:  1.4 1.5 1 0.9950124791926823\n",
      "pdf:  1.4 0.3315188986878833\n",
      "exp:  1.4 0.5 1 0.6669768108584745\n",
      "exp:  1.4 1.5 1 0.9950124791926823\n",
      "exp:  3.3 5.3 1 0.1353352832366127\n",
      "exp:  3.3 4.7 1 0.37531109885139935\n",
      "pdf:  3.3 0.10185921607446642\n",
      "exp:  3.3 5.3 1 0.1353352832366127\n",
      "exp:  3.3 4.7 1 0.37531109885139935\n",
      "exp:  3.0 0.0 1 0.01110899653824231\n",
      "exp:  3.0 0.5 1 0.04393693362340743\n",
      "pdf:  3.0 0.010980074452753275\n",
      "exp:  3.0 0.0 1 0.01110899653824231\n",
      "exp:  3.0 0.5 1 0.04393693362340743\n"
     ]
    },
    {
     "data": {
      "text/plain": "0.00037077795551328447"
     },
     "execution_count": 71,
     "metadata": {},
     "output_type": "execute_result"
    }
   ],
   "source": [
    "example_pdf = generate_pdf(example_df, 'c2', 1)\n",
    "example_pdf([1.4, 3.3, 3.0])"
   ],
   "metadata": {
    "collapsed": false
   }
  }
 ],
 "metadata": {
  "kernelspec": {
   "display_name": "Python 3",
   "language": "python",
   "name": "python3"
  },
  "language_info": {
   "codemirror_mode": {
    "name": "ipython",
    "version": 2
   },
   "file_extension": ".py",
   "mimetype": "text/x-python",
   "name": "python",
   "nbconvert_exporter": "python",
   "pygments_lexer": "ipython2",
   "version": "2.7.6"
  }
 },
 "nbformat": 4,
 "nbformat_minor": 0
}
