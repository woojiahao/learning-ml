{
 "cells": [
  {
   "cell_type": "markdown",
   "source": [
    "Implementation of the k-NN classifier algorithm where we find the distance between vectors and use those to influence whether or not a value is\n",
    "the nearest neighbor.\n",
    "\n",
    "Added on to this is the use of a heap to maintain information about the \"k\" elements"
   ],
   "metadata": {
    "collapsed": false
   }
  },
  {
   "cell_type": "code",
   "execution_count": 5,
   "outputs": [],
   "source": [
    "import numpy as np\n",
    "import pandas as pd\n",
    "import heapq"
   ],
   "metadata": {
    "collapsed": false
   }
  },
  {
   "cell_type": "code",
   "execution_count": 43,
   "outputs": [
    {
     "data": {
      "text/plain": "array([['Iris-setosa'],\n       ['Iris-setosa'],\n       ['Iris-setosa'],\n       ['Iris-setosa'],\n       ['Iris-setosa'],\n       ['Iris-setosa'],\n       ['Iris-setosa'],\n       ['Iris-setosa'],\n       ['Iris-setosa'],\n       ['Iris-setosa'],\n       ['Iris-setosa'],\n       ['Iris-setosa'],\n       ['Iris-setosa'],\n       ['Iris-setosa'],\n       ['Iris-setosa'],\n       ['Iris-setosa'],\n       ['Iris-setosa'],\n       ['Iris-setosa'],\n       ['Iris-setosa'],\n       ['Iris-setosa'],\n       ['Iris-setosa'],\n       ['Iris-setosa'],\n       ['Iris-setosa'],\n       ['Iris-setosa'],\n       ['Iris-setosa'],\n       ['Iris-setosa'],\n       ['Iris-setosa'],\n       ['Iris-setosa'],\n       ['Iris-setosa'],\n       ['Iris-setosa'],\n       ['Iris-setosa'],\n       ['Iris-setosa'],\n       ['Iris-setosa'],\n       ['Iris-setosa'],\n       ['Iris-setosa'],\n       ['Iris-setosa'],\n       ['Iris-setosa'],\n       ['Iris-setosa'],\n       ['Iris-setosa'],\n       ['Iris-setosa'],\n       ['Iris-setosa'],\n       ['Iris-setosa'],\n       ['Iris-setosa'],\n       ['Iris-setosa'],\n       ['Iris-setosa'],\n       ['Iris-setosa'],\n       ['Iris-setosa'],\n       ['Iris-setosa'],\n       ['Iris-setosa'],\n       ['Iris-versicolor'],\n       ['Iris-versicolor'],\n       ['Iris-versicolor'],\n       ['Iris-versicolor'],\n       ['Iris-versicolor'],\n       ['Iris-versicolor'],\n       ['Iris-versicolor'],\n       ['Iris-versicolor'],\n       ['Iris-versicolor'],\n       ['Iris-versicolor'],\n       ['Iris-versicolor'],\n       ['Iris-versicolor'],\n       ['Iris-versicolor'],\n       ['Iris-versicolor'],\n       ['Iris-versicolor'],\n       ['Iris-versicolor'],\n       ['Iris-versicolor'],\n       ['Iris-versicolor'],\n       ['Iris-versicolor'],\n       ['Iris-versicolor'],\n       ['Iris-versicolor'],\n       ['Iris-versicolor'],\n       ['Iris-versicolor'],\n       ['Iris-versicolor'],\n       ['Iris-versicolor'],\n       ['Iris-versicolor'],\n       ['Iris-versicolor'],\n       ['Iris-versicolor'],\n       ['Iris-versicolor'],\n       ['Iris-versicolor'],\n       ['Iris-versicolor'],\n       ['Iris-versicolor'],\n       ['Iris-versicolor'],\n       ['Iris-versicolor'],\n       ['Iris-versicolor'],\n       ['Iris-versicolor'],\n       ['Iris-versicolor'],\n       ['Iris-versicolor'],\n       ['Iris-versicolor'],\n       ['Iris-versicolor'],\n       ['Iris-versicolor'],\n       ['Iris-versicolor'],\n       ['Iris-versicolor'],\n       ['Iris-versicolor'],\n       ['Iris-versicolor'],\n       ['Iris-versicolor'],\n       ['Iris-versicolor'],\n       ['Iris-versicolor'],\n       ['Iris-versicolor'],\n       ['Iris-versicolor'],\n       ['Iris-virginica'],\n       ['Iris-virginica'],\n       ['Iris-virginica'],\n       ['Iris-virginica'],\n       ['Iris-virginica'],\n       ['Iris-virginica'],\n       ['Iris-virginica'],\n       ['Iris-virginica'],\n       ['Iris-virginica'],\n       ['Iris-virginica'],\n       ['Iris-virginica'],\n       ['Iris-virginica'],\n       ['Iris-virginica'],\n       ['Iris-virginica'],\n       ['Iris-virginica'],\n       ['Iris-virginica'],\n       ['Iris-virginica'],\n       ['Iris-virginica'],\n       ['Iris-virginica'],\n       ['Iris-virginica'],\n       ['Iris-virginica'],\n       ['Iris-virginica'],\n       ['Iris-virginica'],\n       ['Iris-virginica'],\n       ['Iris-virginica'],\n       ['Iris-virginica'],\n       ['Iris-virginica'],\n       ['Iris-virginica'],\n       ['Iris-virginica'],\n       ['Iris-virginica'],\n       ['Iris-virginica'],\n       ['Iris-virginica'],\n       ['Iris-virginica'],\n       ['Iris-virginica'],\n       ['Iris-virginica'],\n       ['Iris-virginica'],\n       ['Iris-virginica'],\n       ['Iris-virginica'],\n       ['Iris-virginica'],\n       ['Iris-virginica'],\n       ['Iris-virginica'],\n       ['Iris-virginica'],\n       ['Iris-virginica'],\n       ['Iris-virginica'],\n       ['Iris-virginica'],\n       ['Iris-virginica'],\n       ['Iris-virginica'],\n       ['Iris-virginica'],\n       ['Iris-virginica'],\n       ['Iris-virginica']], dtype=object)"
     },
     "execution_count": 43,
     "metadata": {},
     "output_type": "execute_result"
    }
   ],
   "source": [
    "iris_df = pd.read_csv('datasets/iris.data', header=0, names=['sepal_length', 'sepal_width', 'petal_length', 'petal_width', 'label'])\n",
    "\n",
    "examples = iris_df.iloc[:,:-1].to_numpy()\n",
    "example_labels = iris_df.iloc[:, -1:].to_numpy()\n",
    "\n",
    "example_labels"
   ],
   "metadata": {
    "collapsed": false
   }
  },
  {
   "cell_type": "code",
   "execution_count": 42,
   "outputs": [
    {
     "data": {
      "text/plain": "[56, 92, 59]"
     },
     "execution_count": 42,
     "metadata": {},
     "output_type": "execute_result"
    }
   ],
   "source": [
    "def dist(x, y):\n",
    "    # print(x, y, np.dstack((x, y)))\n",
    "    d = 0\n",
    "    zipped = np.dstack((x, y))[0]\n",
    "    for pair in zipped:\n",
    "        d += (pair[0] - pair[1])**2\n",
    "    return d**0.5\n",
    "\n",
    "def knn(data, k, x):\n",
    "    x = np.array(x)\n",
    "    h = []\n",
    "    for i, y in enumerate(data):\n",
    "        heapq.heappush(h, (-dist(x, y), i))\n",
    "        if len(h) > k:\n",
    "            heapq.heappop(h)\n",
    "\n",
    "    neighbors = []\n",
    "    while h:\n",
    "        neighbors.append(heapq.heappop(h)[1])\n",
    "    return neighbors\n",
    "\n",
    "knn(examples, 3, [4.2, 1.4, 3.2, 0.6])"
   ],
   "metadata": {
    "collapsed": false
   }
  },
  {
   "cell_type": "code",
   "execution_count": 47,
   "outputs": [
    {
     "data": {
      "text/plain": "'Iris-setosa'"
     },
     "execution_count": 47,
     "metadata": {},
     "output_type": "execute_result"
    }
   ],
   "source": [
    "def knn_classifier(data, labels, k, x):\n",
    "    neighbors = knn(data, k, x)\n",
    "    filtered_labels = labels[neighbors]\n",
    "    # from https://www.geeksforgeeks.org/python-find-most-frequent-element-in-a-list/\n",
    "    unique, counts = np.unique(filtered_labels, return_counts=True)\n",
    "    index = np.argmax(counts)\n",
    "    return unique[index]\n",
    "\n",
    "\n",
    "knn_classifier(examples, example_labels, 3, [2.5, 1.4, 1.2, 0.6])"
   ],
   "metadata": {
    "collapsed": false
   }
  }
 ],
 "metadata": {
  "kernelspec": {
   "display_name": "Python 3",
   "language": "python",
   "name": "python3"
  },
  "language_info": {
   "codemirror_mode": {
    "name": "ipython",
    "version": 2
   },
   "file_extension": ".py",
   "mimetype": "text/x-python",
   "name": "python",
   "nbconvert_exporter": "python",
   "pygments_lexer": "ipython2",
   "version": "2.7.6"
  }
 },
 "nbformat": 4,
 "nbformat_minor": 0
}
