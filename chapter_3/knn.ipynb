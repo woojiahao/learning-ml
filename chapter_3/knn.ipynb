{
 "cells": [
  {
   "cell_type": "markdown",
   "source": [
    "Implementation of the k-NN classifier algorithm where we find the distance between vectors and use those to influence whether or not a value is\n",
    "the nearest neighbor.\n",
    "\n",
    "Added on to this is the use of a heap to maintain information about the \"k\" elements"
   ],
   "metadata": {
    "collapsed": false
   }
  },
  {
   "cell_type": "code",
   "execution_count": 71,
   "outputs": [],
   "source": [
    "import numpy as np\n",
    "import pandas as pd\n",
    "import heapq"
   ],
   "metadata": {
    "collapsed": false
   }
  },
  {
   "cell_type": "code",
   "execution_count": 43,
   "outputs": [
    {
     "data": {
      "text/plain": "array([['Iris-setosa'],\n       ['Iris-setosa'],\n       ['Iris-setosa'],\n       ['Iris-setosa'],\n       ['Iris-setosa'],\n       ['Iris-setosa'],\n       ['Iris-setosa'],\n       ['Iris-setosa'],\n       ['Iris-setosa'],\n       ['Iris-setosa'],\n       ['Iris-setosa'],\n       ['Iris-setosa'],\n       ['Iris-setosa'],\n       ['Iris-setosa'],\n       ['Iris-setosa'],\n       ['Iris-setosa'],\n       ['Iris-setosa'],\n       ['Iris-setosa'],\n       ['Iris-setosa'],\n       ['Iris-setosa'],\n       ['Iris-setosa'],\n       ['Iris-setosa'],\n       ['Iris-setosa'],\n       ['Iris-setosa'],\n       ['Iris-setosa'],\n       ['Iris-setosa'],\n       ['Iris-setosa'],\n       ['Iris-setosa'],\n       ['Iris-setosa'],\n       ['Iris-setosa'],\n       ['Iris-setosa'],\n       ['Iris-setosa'],\n       ['Iris-setosa'],\n       ['Iris-setosa'],\n       ['Iris-setosa'],\n       ['Iris-setosa'],\n       ['Iris-setosa'],\n       ['Iris-setosa'],\n       ['Iris-setosa'],\n       ['Iris-setosa'],\n       ['Iris-setosa'],\n       ['Iris-setosa'],\n       ['Iris-setosa'],\n       ['Iris-setosa'],\n       ['Iris-setosa'],\n       ['Iris-setosa'],\n       ['Iris-setosa'],\n       ['Iris-setosa'],\n       ['Iris-setosa'],\n       ['Iris-versicolor'],\n       ['Iris-versicolor'],\n       ['Iris-versicolor'],\n       ['Iris-versicolor'],\n       ['Iris-versicolor'],\n       ['Iris-versicolor'],\n       ['Iris-versicolor'],\n       ['Iris-versicolor'],\n       ['Iris-versicolor'],\n       ['Iris-versicolor'],\n       ['Iris-versicolor'],\n       ['Iris-versicolor'],\n       ['Iris-versicolor'],\n       ['Iris-versicolor'],\n       ['Iris-versicolor'],\n       ['Iris-versicolor'],\n       ['Iris-versicolor'],\n       ['Iris-versicolor'],\n       ['Iris-versicolor'],\n       ['Iris-versicolor'],\n       ['Iris-versicolor'],\n       ['Iris-versicolor'],\n       ['Iris-versicolor'],\n       ['Iris-versicolor'],\n       ['Iris-versicolor'],\n       ['Iris-versicolor'],\n       ['Iris-versicolor'],\n       ['Iris-versicolor'],\n       ['Iris-versicolor'],\n       ['Iris-versicolor'],\n       ['Iris-versicolor'],\n       ['Iris-versicolor'],\n       ['Iris-versicolor'],\n       ['Iris-versicolor'],\n       ['Iris-versicolor'],\n       ['Iris-versicolor'],\n       ['Iris-versicolor'],\n       ['Iris-versicolor'],\n       ['Iris-versicolor'],\n       ['Iris-versicolor'],\n       ['Iris-versicolor'],\n       ['Iris-versicolor'],\n       ['Iris-versicolor'],\n       ['Iris-versicolor'],\n       ['Iris-versicolor'],\n       ['Iris-versicolor'],\n       ['Iris-versicolor'],\n       ['Iris-versicolor'],\n       ['Iris-versicolor'],\n       ['Iris-versicolor'],\n       ['Iris-virginica'],\n       ['Iris-virginica'],\n       ['Iris-virginica'],\n       ['Iris-virginica'],\n       ['Iris-virginica'],\n       ['Iris-virginica'],\n       ['Iris-virginica'],\n       ['Iris-virginica'],\n       ['Iris-virginica'],\n       ['Iris-virginica'],\n       ['Iris-virginica'],\n       ['Iris-virginica'],\n       ['Iris-virginica'],\n       ['Iris-virginica'],\n       ['Iris-virginica'],\n       ['Iris-virginica'],\n       ['Iris-virginica'],\n       ['Iris-virginica'],\n       ['Iris-virginica'],\n       ['Iris-virginica'],\n       ['Iris-virginica'],\n       ['Iris-virginica'],\n       ['Iris-virginica'],\n       ['Iris-virginica'],\n       ['Iris-virginica'],\n       ['Iris-virginica'],\n       ['Iris-virginica'],\n       ['Iris-virginica'],\n       ['Iris-virginica'],\n       ['Iris-virginica'],\n       ['Iris-virginica'],\n       ['Iris-virginica'],\n       ['Iris-virginica'],\n       ['Iris-virginica'],\n       ['Iris-virginica'],\n       ['Iris-virginica'],\n       ['Iris-virginica'],\n       ['Iris-virginica'],\n       ['Iris-virginica'],\n       ['Iris-virginica'],\n       ['Iris-virginica'],\n       ['Iris-virginica'],\n       ['Iris-virginica'],\n       ['Iris-virginica'],\n       ['Iris-virginica'],\n       ['Iris-virginica'],\n       ['Iris-virginica'],\n       ['Iris-virginica'],\n       ['Iris-virginica'],\n       ['Iris-virginica']], dtype=object)"
     },
     "execution_count": 43,
     "metadata": {},
     "output_type": "execute_result"
    }
   ],
   "source": [
    "iris_df = pd.read_csv('datasets/iris.data', header=0, names=['sepal_length', 'sepal_width', 'petal_length', 'petal_width', 'label'])\n",
    "\n",
    "examples = iris_df.iloc[:,:-1].to_numpy()\n",
    "example_labels = iris_df.iloc[:, -1:].to_numpy()\n",
    "\n",
    "example_labels"
   ],
   "metadata": {
    "collapsed": false
   }
  },
  {
   "cell_type": "code",
   "execution_count": 120,
   "outputs": [],
   "source": [
    "def dist(x, y):\n",
    "    # print(x, y, np.dstack((x, y)))\n",
    "    d = 0\n",
    "    zipped = np.dstack((x, y))[0]\n",
    "    for pair in zipped:\n",
    "        d += (pair[0] - pair[1])**2\n",
    "    return d**0.5\n",
    "\n",
    "def knn(data, k, x):\n",
    "    x = np.array(x)\n",
    "    h = []\n",
    "    for idx, train_row in data.iterrows():\n",
    "        heapq.heappush(h, (-dist(x, train_row), idx))\n",
    "        if len(h) > k:\n",
    "            heapq.heappop(h)\n",
    "\n",
    "    neighbors = []\n",
    "    while h:\n",
    "        neighbors.append(heapq.heappop(h)[1])\n",
    "    return neighbors\n",
    "\n",
    "# knn(examples, 3, [4.2, 1.4, 3.2, 0.6])"
   ],
   "metadata": {
    "collapsed": false
   }
  },
  {
   "cell_type": "code",
   "execution_count": 164,
   "outputs": [],
   "source": [
    "def knn_classifier(data, labels, k, x):\n",
    "    neighbors = knn(data, k, x)\n",
    "    filtered_labels = labels.loc[labels.index.isin(neighbors)].to_numpy()\n",
    "    # from https://www.geeksforgeeks.org/python-find-most-frequent-element-in-a-list/\n",
    "    unique, counts = np.unique(filtered_labels, return_counts=True)\n",
    "    index = np.argmax(counts)\n",
    "    return unique[index]\n",
    "\n",
    "# knn_classifier(examples, example_labels, 3, [2.5, 1.4, 1.2, 0.6])"
   ],
   "metadata": {
    "collapsed": false
   }
  },
  {
   "cell_type": "code",
   "execution_count": 166,
   "outputs": [],
   "source": [
    "def train_test_split(df, label_column, train_ratio, test_ratio):\n",
    "    if train_ratio + test_ratio != 1.0:\n",
    "        raise 'Invalid train-test ratio'\n",
    "\n",
    "    np.random.seed(42)\n",
    "    df = df.reindex(np.random.permutation(df.index))\n",
    "    data = df.loc[:, df.columns != label_column]\n",
    "    labels = df.loc[:, df.columns == label_column]\n",
    "    ratio = int(df.shape[0] * train_ratio)\n",
    "    train_data = data.iloc[ratio:,:]\n",
    "    test_data = data.iloc[:ratio,:]\n",
    "    train_labels = labels.iloc[ratio:,:]\n",
    "    test_labels = labels.iloc[:ratio,:]\n",
    "\n",
    "    return train_data, train_labels, test_data, test_labels\n",
    "\n",
    "# Handles the model initialization and loading using a k-NN classifier\n",
    "def run_model(df, label_column, train_ratio, test_ratio, k):\n",
    "    train_data, train_labels, test_data, test_labels = train_test_split(df, label_column, train_ratio, test_ratio)\n",
    "\n",
    "    misses = 0\n",
    "\n",
    "    for idx, row in test_data.iterrows():\n",
    "        expected_label = test_labels.loc[[idx]]['label'].values[0]\n",
    "        predicted_label = knn_classifier(train_data, train_labels, k, row)\n",
    "        if expected_label != predicted_label:\n",
    "            misses += 1\n",
    "\n",
    "    return misses / test_data.shape[0]"
   ],
   "metadata": {
    "collapsed": false
   }
  },
  {
   "cell_type": "code",
   "execution_count": 170,
   "outputs": [
    {
     "name": "stdout",
     "output_type": "stream",
     "text": [
      "Using 1-NN has a miss rate of 0.056179775280898875\n",
      "Using 2-NN has a miss rate of 0.06741573033707865\n",
      "Using 3-NN has a miss rate of 0.0449438202247191\n",
      "Using 4-NN has a miss rate of 0.0449438202247191\n",
      "Using 5-NN has a miss rate of 0.0449438202247191\n",
      "Using 6-NN has a miss rate of 0.0449438202247191\n",
      "Using 7-NN has a miss rate of 0.0449438202247191\n",
      "Using 8-NN has a miss rate of 0.0449438202247191\n",
      "Using 9-NN has a miss rate of 0.0449438202247191\n",
      "Using 10-NN has a miss rate of 0.056179775280898875\n",
      "Using 11-NN has a miss rate of 0.06741573033707865\n",
      "Using 12-NN has a miss rate of 0.056179775280898875\n",
      "Using 13-NN has a miss rate of 0.06741573033707865\n",
      "Using 14-NN has a miss rate of 0.06741573033707865\n",
      "Using 15-NN has a miss rate of 0.0898876404494382\n",
      "Using 16-NN has a miss rate of 0.07865168539325842\n",
      "Using 17-NN has a miss rate of 0.07865168539325842\n",
      "Using 18-NN has a miss rate of 0.0898876404494382\n",
      "Using 19-NN has a miss rate of 0.0898876404494382\n"
     ]
    }
   ],
   "source": [
    "for k in range(1, 20):\n",
    "    print(f'Using {k}-NN has a miss rate of {run_model(iris_df, \"label\", 0.6, 0.4, k)}')"
   ],
   "metadata": {
    "collapsed": false
   }
  }
 ],
 "metadata": {
  "kernelspec": {
   "display_name": "Python 3",
   "language": "python",
   "name": "python3"
  },
  "language_info": {
   "codemirror_mode": {
    "name": "ipython",
    "version": 2
   },
   "file_extension": ".py",
   "mimetype": "text/x-python",
   "name": "python",
   "nbconvert_exporter": "python",
   "pygments_lexer": "ipython2",
   "version": "2.7.6"
  }
 },
 "nbformat": 4,
 "nbformat_minor": 0
}
