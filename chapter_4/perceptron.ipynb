{
 "cells": [
  {
   "cell_type": "code",
   "execution_count": 1,
   "metadata": {
    "collapsed": true
   },
   "outputs": [],
   "source": [
    "import numpy as np\n",
    "import pandas as pd"
   ]
  },
  {
   "cell_type": "code",
   "execution_count": 8,
   "outputs": [],
   "source": [
    "training_attributes = np.array([[1, 1, 1, 0], [0, 0, 0, 0], [1, 1, 0, 1], [1, 1, 0, 0], [0, 1, 0, 1], [0, 0, 0, 1]])\n",
    "training_labels = np.array([1, 1, 1, 0, 0, 0])"
   ],
   "metadata": {
    "collapsed": false
   }
  },
  {
   "cell_type": "code",
   "execution_count": 171,
   "outputs": [
    {
     "name": "stdout",
     "output_type": "stream",
     "text": [
      "Epoch 1 Report\t\tAccuracy: 3/6 = 50.0%\n",
      "Epoch 2 Report\t\tAccuracy: 4/6 = 66.66666666666666%\n",
      "Epoch 3 Report\t\tAccuracy: 4/6 = 66.66666666666666%\n",
      "Epoch 4 Report\t\tAccuracy: 4/6 = 66.66666666666666%\n",
      "Epoch 5 Report\t\tAccuracy: 2/6 = 33.33333333333333%\n",
      "Epoch 6 Report\t\tAccuracy: 2/6 = 33.33333333333333%\n",
      "Epoch 7 Report\t\tAccuracy: 2/6 = 33.33333333333333%\n",
      "Epoch 8 Report\t\tAccuracy: 2/6 = 33.33333333333333%\n",
      "Epoch 9 Report\t\tAccuracy: 2/6 = 33.33333333333333%\n",
      "Epoch 10 Report\t\tAccuracy: 2/6 = 33.33333333333333%\n"
     ]
    }
   ],
   "source": [
    "# h(x) = 1 if sum is > 0\n",
    "def h(x, w):\n",
    "    v = 0\n",
    "    n = w.shape[0]\n",
    "    for i in range(n):\n",
    "        v += x[i] * w[i]\n",
    "    return 1 if v > 0 else 0\n",
    "\n",
    "def epoch(examples, labels, weights, learning_rate):\n",
    "    length = examples.shape[0]\n",
    "    attribute_count = examples.shape[1] + 1\n",
    "    # print(length, attribute_count)\n",
    "    x0 = np.full((length, 1), 1)\n",
    "    examples = np.hstack((x0, examples))\n",
    "    # print(examples)\n",
    "    hits = 0\n",
    "    for i in range(length):\n",
    "        e = examples[i]\n",
    "        l = labels[i]\n",
    "        prediction = h(e, weights)\n",
    "        if prediction == l:\n",
    "            hits += 1\n",
    "        for j in range(attribute_count):\n",
    "            # print(weights[j] + (l - prediction) * learning_rate * e[j])\n",
    "            # print(weights)\n",
    "            weights[j] = weights[j] + (l - prediction) * learning_rate * e[j]\n",
    "        # print(weights)\n",
    "    return weights, hits\n",
    "\n",
    "def train(examples, labels, learning_rate = 0.5, epochs = 100, weights = None):\n",
    "    length = examples.shape[0]\n",
    "    attribute_count = examples.shape[1] + 1\n",
    "    if weights is None:\n",
    "        weights = np.random.uniform(-1, 1, attribute_count)\n",
    "    for i in range(epochs):\n",
    "        # print('Weights before change = ', weights)\n",
    "        weights, hits = epoch(examples, labels, weights, learning_rate)\n",
    "        print(f'Epoch {i + 1} Report\\t\\tAccuracy: {hits}/{length} = {hits/length*100}%')\n",
    "    # print('Final weights = ', weights)\n",
    "\n",
    "train(training_attributes, training_labels, epochs=10)"
   ],
   "metadata": {
    "collapsed": false
   }
  },
  {
   "cell_type": "code",
   "execution_count": 49,
   "outputs": [],
   "source": [
    "def generate_examples(size, attribute_count, labeller):\n",
    "    examples = np.random.randint(2, size=(size, attribute_count))\n",
    "    labels = np.full(size, 0)\n",
    "    for i in range(size):\n",
    "        labels[i] = labeller(examples[i])\n",
    "    return examples, labels"
   ],
   "metadata": {
    "collapsed": false
   }
  },
  {
   "cell_type": "code",
   "execution_count": 173,
   "outputs": [
    {
     "name": "stdout",
     "output_type": "stream",
     "text": [
      "Epoch 1 Report\t\tAccuracy: 9/20 = 45.0%\n",
      "Epoch 2 Report\t\tAccuracy: 13/20 = 65.0%\n",
      "Epoch 3 Report\t\tAccuracy: 14/20 = 70.0%\n",
      "Epoch 4 Report\t\tAccuracy: 15/20 = 75.0%\n",
      "Epoch 5 Report\t\tAccuracy: 15/20 = 75.0%\n",
      "Epoch 6 Report\t\tAccuracy: 17/20 = 85.0%\n",
      "Epoch 7 Report\t\tAccuracy: 18/20 = 90.0%\n",
      "Epoch 8 Report\t\tAccuracy: 20/20 = 100.0%\n",
      "Epoch 9 Report\t\tAccuracy: 20/20 = 100.0%\n",
      "Epoch 10 Report\t\tAccuracy: 20/20 = 100.0%\n"
     ]
    }
   ],
   "source": [
    "def question_two():\n",
    "    def labeller(row):\n",
    "        if np.sum(row) >= 3:\n",
    "            return 1\n",
    "        return 0\n",
    "    examples, labels = generate_examples(20, 5, labeller)\n",
    "    train(examples, labels, 0.7, 10)\n",
    "\n",
    "question_two()"
   ],
   "metadata": {
    "collapsed": false
   }
  },
  {
   "cell_type": "code",
   "execution_count": 167,
   "outputs": [
    {
     "name": "stdout",
     "output_type": "stream",
     "text": [
      "3 3\n",
      "[[1 1 0]\n",
      " [1 1 1]\n",
      " [1 0 0]]\n",
      "[-0.4 -0.2  0.4]\n",
      "[0.1 0.3 0.9]\n",
      "[-0.4  0.3  0.9]\n",
      "Epoch 1 Report\t\tAccuracy: 0/3 = 0.0%\n",
      "3 3\n",
      "[[1 1 0]\n",
      " [1 1 1]\n",
      " [1 0 0]]\n",
      "[-0.4  0.3  0.9]\n",
      "[-0.4  0.3  0.9]\n",
      "[-0.4  0.3  0.9]\n",
      "Epoch 2 Report\t\tAccuracy: 3/3 = 100.0%\n",
      "3 3\n",
      "[[1 1 0]\n",
      " [1 1 1]\n",
      " [1 0 0]]\n",
      "[-0.4  0.3  0.9]\n",
      "[-0.4  0.3  0.9]\n",
      "[-0.4  0.3  0.9]\n",
      "Epoch 3 Report\t\tAccuracy: 3/3 = 100.0%\n"
     ]
    }
   ],
   "source": [
    "test_data = np.array([[1, 0], [1, 1], [0, 0]])\n",
    "test_labels = np.array([0, 1, 0])\n",
    "train(test_data, test_labels, epochs=3, weights=np.array([0.1, 0.3, 0.4]))"
   ],
   "metadata": {
    "collapsed": false
   }
  }
 ],
 "metadata": {
  "kernelspec": {
   "display_name": "Python 3",
   "language": "python",
   "name": "python3"
  },
  "language_info": {
   "codemirror_mode": {
    "name": "ipython",
    "version": 2
   },
   "file_extension": ".py",
   "mimetype": "text/x-python",
   "name": "python",
   "nbconvert_exporter": "python",
   "pygments_lexer": "ipython2",
   "version": "2.7.6"
  }
 },
 "nbformat": 4,
 "nbformat_minor": 0
}
